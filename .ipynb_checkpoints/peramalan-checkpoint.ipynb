{
 "cells": [
  {
   "cell_type": "code",
   "execution_count": 1,
   "metadata": {},
   "outputs": [
    {
     "data": {
      "text/html": [
       "<div>\n",
       "<style scoped>\n",
       "    .dataframe tbody tr th:only-of-type {\n",
       "        vertical-align: middle;\n",
       "    }\n",
       "\n",
       "    .dataframe tbody tr th {\n",
       "        vertical-align: top;\n",
       "    }\n",
       "\n",
       "    .dataframe thead th {\n",
       "        text-align: right;\n",
       "    }\n",
       "</style>\n",
       "<table border=\"1\" class=\"dataframe\">\n",
       "  <thead>\n",
       "    <tr style=\"text-align: right;\">\n",
       "      <th></th>\n",
       "      <th>Date</th>\n",
       "      <th>Open</th>\n",
       "    </tr>\n",
       "  </thead>\n",
       "  <tbody>\n",
       "    <tr>\n",
       "      <th>0</th>\n",
       "      <td>2022-06-15</td>\n",
       "      <td>6850.0</td>\n",
       "    </tr>\n",
       "    <tr>\n",
       "      <th>1</th>\n",
       "      <td>2022-06-16</td>\n",
       "      <td>6800.0</td>\n",
       "    </tr>\n",
       "    <tr>\n",
       "      <th>2</th>\n",
       "      <td>2022-06-17</td>\n",
       "      <td>6700.0</td>\n",
       "    </tr>\n",
       "    <tr>\n",
       "      <th>3</th>\n",
       "      <td>2022-06-18</td>\n",
       "      <td>6700.0</td>\n",
       "    </tr>\n",
       "    <tr>\n",
       "      <th>4</th>\n",
       "      <td>2022-06-19</td>\n",
       "      <td>6700.0</td>\n",
       "    </tr>\n",
       "    <tr>\n",
       "      <th>...</th>\n",
       "      <td>...</td>\n",
       "      <td>...</td>\n",
       "    </tr>\n",
       "    <tr>\n",
       "      <th>361</th>\n",
       "      <td>2023-06-11</td>\n",
       "      <td>7325.0</td>\n",
       "    </tr>\n",
       "    <tr>\n",
       "      <th>362</th>\n",
       "      <td>2023-06-12</td>\n",
       "      <td>7450.0</td>\n",
       "    </tr>\n",
       "    <tr>\n",
       "      <th>363</th>\n",
       "      <td>2023-06-13</td>\n",
       "      <td>7475.0</td>\n",
       "    </tr>\n",
       "    <tr>\n",
       "      <th>364</th>\n",
       "      <td>2023-06-14</td>\n",
       "      <td>7475.0</td>\n",
       "    </tr>\n",
       "    <tr>\n",
       "      <th>365</th>\n",
       "      <td>2023-06-15</td>\n",
       "      <td>7450.0</td>\n",
       "    </tr>\n",
       "  </tbody>\n",
       "</table>\n",
       "<p>366 rows × 2 columns</p>\n",
       "</div>"
      ],
      "text/plain": [
       "           Date    Open\n",
       "0    2022-06-15  6850.0\n",
       "1    2022-06-16  6800.0\n",
       "2    2022-06-17  6700.0\n",
       "3    2022-06-18  6700.0\n",
       "4    2022-06-19  6700.0\n",
       "..          ...     ...\n",
       "361  2023-06-11  7325.0\n",
       "362  2023-06-12  7450.0\n",
       "363  2023-06-13  7475.0\n",
       "364  2023-06-14  7475.0\n",
       "365  2023-06-15  7450.0\n",
       "\n",
       "[366 rows x 2 columns]"
      ]
     },
     "execution_count": 1,
     "metadata": {},
     "output_type": "execute_result"
    }
   ],
   "source": [
    "import pandas as pd\n",
    "df = pd.read_csv('DatasetSaham.csv')\n",
    "df  "
   ]
  },
  {
   "cell_type": "code",
   "execution_count": 2,
   "metadata": {},
   "outputs": [
    {
     "data": {
      "text/html": [
       "<div>\n",
       "<style scoped>\n",
       "    .dataframe tbody tr th:only-of-type {\n",
       "        vertical-align: middle;\n",
       "    }\n",
       "\n",
       "    .dataframe tbody tr th {\n",
       "        vertical-align: top;\n",
       "    }\n",
       "\n",
       "    .dataframe thead th {\n",
       "        text-align: right;\n",
       "    }\n",
       "</style>\n",
       "<table border=\"1\" class=\"dataframe\">\n",
       "  <thead>\n",
       "    <tr style=\"text-align: right;\">\n",
       "      <th></th>\n",
       "      <th>Open</th>\n",
       "    </tr>\n",
       "  </thead>\n",
       "  <tbody>\n",
       "    <tr>\n",
       "      <th>0</th>\n",
       "      <td>6850.0</td>\n",
       "    </tr>\n",
       "    <tr>\n",
       "      <th>1</th>\n",
       "      <td>6800.0</td>\n",
       "    </tr>\n",
       "    <tr>\n",
       "      <th>2</th>\n",
       "      <td>6700.0</td>\n",
       "    </tr>\n",
       "    <tr>\n",
       "      <th>3</th>\n",
       "      <td>6700.0</td>\n",
       "    </tr>\n",
       "    <tr>\n",
       "      <th>4</th>\n",
       "      <td>6700.0</td>\n",
       "    </tr>\n",
       "    <tr>\n",
       "      <th>...</th>\n",
       "      <td>...</td>\n",
       "    </tr>\n",
       "    <tr>\n",
       "      <th>288</th>\n",
       "      <td>6400.0</td>\n",
       "    </tr>\n",
       "    <tr>\n",
       "      <th>289</th>\n",
       "      <td>6400.0</td>\n",
       "    </tr>\n",
       "    <tr>\n",
       "      <th>290</th>\n",
       "      <td>6400.0</td>\n",
       "    </tr>\n",
       "    <tr>\n",
       "      <th>291</th>\n",
       "      <td>6400.0</td>\n",
       "    </tr>\n",
       "    <tr>\n",
       "      <th>292</th>\n",
       "      <td>6200.0</td>\n",
       "    </tr>\n",
       "  </tbody>\n",
       "</table>\n",
       "<p>293 rows × 1 columns</p>\n",
       "</div>"
      ],
      "text/plain": [
       "       Open\n",
       "0    6850.0\n",
       "1    6800.0\n",
       "2    6700.0\n",
       "3    6700.0\n",
       "4    6700.0\n",
       "..      ...\n",
       "288  6400.0\n",
       "289  6400.0\n",
       "290  6400.0\n",
       "291  6400.0\n",
       "292  6200.0\n",
       "\n",
       "[293 rows x 1 columns]"
      ]
     },
     "execution_count": 2,
     "metadata": {},
     "output_type": "execute_result"
    }
   ],
   "source": [
    "import joblib\n",
    "data = df['Open']\n",
    "n = len(data)\n",
    "sizeTrain = (round(n*0.8))\n",
    "data_train = pd.DataFrame(data[:sizeTrain])\n",
    "data_test = pd.DataFrame(data[sizeTrain:])\n",
    "data_train\n"
   ]
  },
  {
   "cell_type": "code",
   "execution_count": 3,
   "metadata": {},
   "outputs": [
    {
     "data": {
      "text/plain": [
       "0     0.125000\n",
       "1     0.291667\n",
       "2     0.229167\n",
       "3     0.229167\n",
       "4     0.229167\n",
       "        ...   \n",
       "68    1.083333\n",
       "69    1.187500\n",
       "70    1.208333\n",
       "71    1.208333\n",
       "72    1.187500\n",
       "Name: data, Length: 73, dtype: float64"
      ]
     },
     "execution_count": 3,
     "metadata": {},
     "output_type": "execute_result"
    }
   ],
   "source": [
    "from sklearn.preprocessing import MinMaxScaler\n",
    "scaler = MinMaxScaler()\n",
    "train_scaled = scaler.fit_transform(data_train)\n",
    "\n",
    "# Mengaplikasikan MinMaxScaler pada data pengujian\n",
    "test_scaled = scaler.transform(data_test)\n",
    "\n",
    "# reshaped_data = data.reshape(-1, 1)\n",
    "train = pd.DataFrame(train_scaled, columns = ['data'])\n",
    "train = train['data']\n",
    "\n",
    "test = pd.DataFrame(test_scaled, columns = ['data'])\n",
    "test = test['data']\n",
    "joblib.dump(scaler, 'scalerUAS.pkl')\n",
    "test"
   ]
  },
  {
   "cell_type": "code",
   "execution_count": 4,
   "metadata": {},
   "outputs": [
    {
     "data": {
      "text/html": [
       "<div>\n",
       "<style scoped>\n",
       "    .dataframe tbody tr th:only-of-type {\n",
       "        vertical-align: middle;\n",
       "    }\n",
       "\n",
       "    .dataframe tbody tr th {\n",
       "        vertical-align: top;\n",
       "    }\n",
       "\n",
       "    .dataframe thead th {\n",
       "        text-align: right;\n",
       "    }\n",
       "</style>\n",
       "<table border=\"1\" class=\"dataframe\">\n",
       "  <thead>\n",
       "    <tr style=\"text-align: right;\">\n",
       "      <th></th>\n",
       "      <th>0</th>\n",
       "      <th>1</th>\n",
       "      <th>0</th>\n",
       "    </tr>\n",
       "  </thead>\n",
       "  <tbody>\n",
       "    <tr>\n",
       "      <th>0</th>\n",
       "      <td>0.125000</td>\n",
       "      <td>0.291667</td>\n",
       "      <td>0.229167</td>\n",
       "    </tr>\n",
       "    <tr>\n",
       "      <th>1</th>\n",
       "      <td>0.291667</td>\n",
       "      <td>0.229167</td>\n",
       "      <td>0.229167</td>\n",
       "    </tr>\n",
       "    <tr>\n",
       "      <th>2</th>\n",
       "      <td>0.229167</td>\n",
       "      <td>0.229167</td>\n",
       "      <td>0.229167</td>\n",
       "    </tr>\n",
       "    <tr>\n",
       "      <th>3</th>\n",
       "      <td>0.229167</td>\n",
       "      <td>0.229167</td>\n",
       "      <td>0.229167</td>\n",
       "    </tr>\n",
       "    <tr>\n",
       "      <th>4</th>\n",
       "      <td>0.229167</td>\n",
       "      <td>0.229167</td>\n",
       "      <td>0.208333</td>\n",
       "    </tr>\n",
       "    <tr>\n",
       "      <th>...</th>\n",
       "      <td>...</td>\n",
       "      <td>...</td>\n",
       "      <td>...</td>\n",
       "    </tr>\n",
       "    <tr>\n",
       "      <th>66</th>\n",
       "      <td>1.083333</td>\n",
       "      <td>1.083333</td>\n",
       "      <td>1.083333</td>\n",
       "    </tr>\n",
       "    <tr>\n",
       "      <th>67</th>\n",
       "      <td>1.083333</td>\n",
       "      <td>1.083333</td>\n",
       "      <td>1.187500</td>\n",
       "    </tr>\n",
       "    <tr>\n",
       "      <th>68</th>\n",
       "      <td>1.083333</td>\n",
       "      <td>1.187500</td>\n",
       "      <td>1.208333</td>\n",
       "    </tr>\n",
       "    <tr>\n",
       "      <th>69</th>\n",
       "      <td>1.187500</td>\n",
       "      <td>1.208333</td>\n",
       "      <td>1.208333</td>\n",
       "    </tr>\n",
       "    <tr>\n",
       "      <th>70</th>\n",
       "      <td>1.208333</td>\n",
       "      <td>1.208333</td>\n",
       "      <td>1.187500</td>\n",
       "    </tr>\n",
       "  </tbody>\n",
       "</table>\n",
       "<p>71 rows × 3 columns</p>\n",
       "</div>"
      ],
      "text/plain": [
       "           0         1         0\n",
       "0   0.125000  0.291667  0.229167\n",
       "1   0.291667  0.229167  0.229167\n",
       "2   0.229167  0.229167  0.229167\n",
       "3   0.229167  0.229167  0.229167\n",
       "4   0.229167  0.229167  0.208333\n",
       "..       ...       ...       ...\n",
       "66  1.083333  1.083333  1.083333\n",
       "67  1.083333  1.083333  1.187500\n",
       "68  1.083333  1.187500  1.208333\n",
       "69  1.187500  1.208333  1.208333\n",
       "70  1.208333  1.208333  1.187500\n",
       "\n",
       "[71 rows x 3 columns]"
      ]
     },
     "execution_count": 4,
     "metadata": {},
     "output_type": "execute_result"
    }
   ],
   "source": [
    "import numpy as np\n",
    "from numpy import array\n",
    "def split_sequence(sequence, n_steps):\n",
    "  X, y = list(), list()\n",
    "  for i in range(len(sequence)):\n",
    "    # find the end of this pattern\n",
    "    end_ix = i + n_steps\n",
    "    # check if we are beyond the sequence\n",
    "    if end_ix > len(sequence)-1:\n",
    "      break\n",
    "    # gather input and output parts of the pattern\n",
    "    seq_x, seq_y = sequence[i:end_ix], sequence[end_ix]\n",
    "    X.append(seq_x)\n",
    "    y.append(seq_y)\n",
    "  \n",
    "  return array(X), array(y)\n",
    "df_X, df_Y = split_sequence(train, 2)\n",
    "x = pd.DataFrame(df_X)\n",
    "y = pd.DataFrame(df_Y)\n",
    "dataset_train = pd.concat([x, y], axis=1)\n",
    "dataset_train\n",
    "# dataset_train.to_excel('data-train.xlsx', index=False)\n",
    "X_train = dataset_train.iloc[:, :2].values\n",
    "Y_train = dataset_train.iloc[:, -1].values\n",
    "test_x, test_y = split_sequence(test, 2)\n",
    "x = pd.DataFrame(test_x)\n",
    "y = pd.DataFrame(test_y)\n",
    "dataset_test = pd.concat([x, y], axis=1)\n",
    "dataset_test.to_csv('data-test-UAS.csv', index=False)\n",
    "X_test = dataset_test.iloc[:, :2].values\n",
    "Y_test = dataset_test.iloc[:, -1].values\n",
    "dataset_test"
   ]
  },
  {
   "cell_type": "code",
   "execution_count": 6,
   "metadata": {},
   "outputs": [
    {
     "data": {
      "image/png": "[encoded data removed]",
      "text/plain": [
       "<Figure size 432x288 with 1 Axes>"
      ]
     },
     "metadata": {
      "needs_background": "light"
     },
     "output_type": "display_data"
    },
    {
     "name": "stdout",
     "output_type": "stream",
     "text": [
      "0.09183745358062938\n"
     ]
    },
    {
     "data": {
      "image/png": "[encoded data removed]",
      "text/plain": [
       "<Figure size 432x288 with 1 Axes>"
      ]
     },
     "metadata": {
      "needs_background": "light"
     },
     "output_type": "display_data"
    },
    {
     "name": "stdout",
     "output_type": "stream",
     "text": [
      "0.1550622849643631\n"
     ]
    },
    {
     "data": {
      "image/png": "[encoded data removed]",
      "text/plain": [
       "<Figure size 432x288 with 1 Axes>"
      ]
     },
     "metadata": {
      "needs_background": "light"
     },
     "output_type": "display_data"
    },
    {
     "name": "stdout",
     "output_type": "stream",
     "text": [
      "0.2027510805315201\n"
     ]
    },
    {
     "data": {
      "text/plain": [
       "['modelSVM.pkl']"
      ]
     },
     "execution_count": 6,
     "metadata": {},
     "output_type": "execute_result"
    }
   ],
   "source": [
    "from sklearn.svm import SVR\n",
    "from sklearn.metrics import mean_absolute_percentage_error\n",
    "import matplotlib.pyplot as plt\n",
    "\n",
    "models = []\n",
    "uji = ['linear','rbf','poly']\n",
    "errors = []\n",
    "for ker in uji:\n",
    "\n",
    "    svr = SVR(kernel=ker) \n",
    "    svr.fit(X_train, Y_train)\n",
    "    \n",
    "    y_pred=svr.predict(X_test)\n",
    "    error = mean_absolute_percentage_error(y_pred, Y_test)\n",
    "    models.append(svr)\n",
    "    errors.append(error)\n",
    "    \n",
    "    plt.plot(y_pred, label='Prediksi')\n",
    "    plt.plot(Y_test, label='Aktual')\n",
    "    plt.xlabel('Index')\n",
    "    plt.ylabel('Nilai')\n",
    "    plt.title('Plot Prediksi vs Aktual')\n",
    "    plt.legend()\n",
    "    plt.show()\n",
    "\n",
    "    print(error)\n",
    "indexModel = np.argmin(errors)\n",
    "joblib.dump(models[indexModel], 'modelSVM.pkl')"
   ]
  }
 ],
 "metadata": {
  "kernelspec": {
   "display_name": "Python 3 (ipykernel)",
   "language": "python",
   "name": "python3"
  },
  "language_info": {
   "codemirror_mode": {
    "name": "ipython",
    "version": 3
   },
   "file_extension": ".py",
   "mimetype": "text/x-python",
   "name": "python",
   "nbconvert_exporter": "python",
   "pygments_lexer": "ipython3",
   "version": "3.9.7"
  }
 },
 "nbformat": 4,
 "nbformat_minor": 2
}
